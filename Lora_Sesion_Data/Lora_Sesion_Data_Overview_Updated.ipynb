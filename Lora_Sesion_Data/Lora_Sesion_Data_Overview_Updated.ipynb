{
 "cells": [
  {
   "cell_type": "markdown",
   "metadata": {},
   "source": [
    "# CSV Data Overview\n",
    "Dieses Notebook lädt alle CSV-Dateien aus dem angegebenen Ordner und erstellt Diagramme für RSI und SNR über die Zeit."
   ]
  },
  {
   "cell_type": "code",
   "execution_count": null,
   "metadata": {},
   "outputs": [],
   "source": [
    "import pandas as pd\n",
    "import matplotlib.pyplot as plt\n",
    "from glob import glob\n",
    "import os\n",
    "\n",
    "path = r'C:\\Users\\Admin01\\Documents\\Bachlore\\gatewaylistener\\Lora_Sesion_Data\\*.csv'\n",
    "files = glob(path)\n",
    "\n",
    "for file in files:\n",
    "    data = pd.read_csv(file)\n",
    "    file_name = os.path.basename(file)\n",
    "    \n",
    "    # Spalten überprüfen\n",
    "    print(f'Spalten in {file_name}:', data.columns.tolist())\n",
    "\n",
    "    # Annahme: Die Datendateien enthalten 'timestamp', 'rssi' und 'snr' als Spalten\n",
    "    if 'timestamp' in data.columns and 'rssi' in data.columns and 'snr' in data.columns:\n",
    "        plt.figure(figsize=(14, 6))\n",
    "        plt.plot(data['timestamp'], data['rssi'], label='RSSI')\n",
    "        plt.plot(data['timestamp'], data['snr'], label='SNR')\n",
    "        plt.title(f'RSSI und SNR über Zeit - {file_name}')\n",
    "        plt.xlabel('Zeit')\n",
    "        plt.ylabel('Wert')\n",
    "        plt.legend()\n",
    "        plt.grid(True)\n",
    "        plt.show()\n",
    "    else:\n",
    "        print(f'Spaltennamen fehlen in {file_name}. Erwartet: 'timestamp', 'rssi', 'snr')\n"
   ]
  }
 ],
 "metadata": {
  "kernelspec": {
   "display_name": "Python 3",
   "language": "python",
   "name": "python3"
  },
  "language_info": {
   "codemirror_mode": {
    "name": "ipython",
    "version": 3
   },
   "file_extension": ".py",
   "mimetype": "text/x-python",
   "name": "python",
   "nbconvert_exporter": "python",
   "pygments_lexer": "ipython3",
   "version": "3.8.5"
  }
 },
 "nbformat": 4,
 "nbformat_minor": 2
}
